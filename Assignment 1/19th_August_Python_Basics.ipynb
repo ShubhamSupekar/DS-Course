{
 "cells": [
  {
   "cell_type": "markdown",
   "id": "861246de-4e34-4b35-a1cb-1da2b55823ad",
   "metadata": {},
   "source": [
    "Assignment: 19th_August_Python_Basics"
   ]
  },
  {
   "cell_type": "markdown",
   "id": "1554be88-5f02-4efe-8b46-92f36994b8f4",
   "metadata": {},
   "source": [
    "1. Declare two variables, `x` and `y`, and assign them integer values. Swap the\n",
    "values of these variables without using any temporary variable."
   ]
  },
  {
   "cell_type": "code",
   "execution_count": 1,
   "id": "6586d9d0-73fa-4b54-bd25-9d58f5e0419f",
   "metadata": {},
   "outputs": [
    {
     "name": "stdout",
     "output_type": "stream",
     "text": [
      "20 10\n"
     ]
    }
   ],
   "source": [
    "# declaring Variable and assigning values:\n",
    "a = 10\n",
    "b = 20 \n",
    "# swaping values of these variables\n",
    "a,b = b,a\n",
    "print(a,b)"
   ]
  },
  {
   "cell_type": "markdown",
   "id": "b521a8f7-1c2e-4de2-92f5-d95349833b3d",
   "metadata": {},
   "source": [
    "2. Create a program that calculates the area of a rectangle. Take the length and\n",
    "width as inputs from the user and store them in variables. Calculate and\n",
    "display the area."
   ]
  },
  {
   "cell_type": "code",
   "execution_count": 4,
   "id": "0d5a7164-8c31-4906-ac4d-8404561eabb0",
   "metadata": {},
   "outputs": [
    {
     "name": "stdin",
     "output_type": "stream",
     "text": [
      "l:  8\n",
      "b:  4\n"
     ]
    },
    {
     "name": "stdout",
     "output_type": "stream",
     "text": [
      "area of a rectangle:  32.0\n"
     ]
    }
   ],
   "source": [
    "# Taking input from user\n",
    "l = float(input(\"l: \"))\n",
    "b = float(input(\"b: \"))\n",
    "\n",
    "# calculating area\n",
    "area = (l*b)\n",
    "print(\"area of a rectangle: \",area)"
   ]
  },
  {
   "cell_type": "markdown",
   "id": "8043137a-dea2-424a-aaa5-6998b830d87f",
   "metadata": {},
   "source": [
    "3. Write a Python program that converts temperatures from Celsius to\n",
    "Fahrenheit. Take the temperature in Celsius as input, store it in a variable,\n",
    "convert it to Fahrenheit, and display the result."
   ]
  },
  {
   "cell_type": "code",
   "execution_count": 6,
   "id": "fd11cc7a-cba4-47bd-bb34-887e5ddbfc0f",
   "metadata": {},
   "outputs": [
    {
     "name": "stdin",
     "output_type": "stream",
     "text": [
      "Celsius: 30\n"
     ]
    },
    {
     "name": "stdout",
     "output_type": "stream",
     "text": [
      "Farenheit is 86.0F\n"
     ]
    }
   ],
   "source": [
    "# taking input from user\n",
    "C = float(input(\"Celsius:\"))\n",
    "\n",
    "# Calculating Fahrenheit\n",
    "F = C*(9/5)+32\n",
    "print(f\"Farenheit is {F}F\")"
   ]
  },
  {
   "cell_type": "markdown",
   "id": "e23112c7-4cc6-4ba7-b427-3768357c30cc",
   "metadata": {},
   "source": [
    "TOPIC: String Based Questions"
   ]
  },
  {
   "cell_type": "markdown",
   "id": "606a9fed-ddc4-4a03-9e47-e8daccd952cd",
   "metadata": {},
   "source": [
    "1. Write a Python program that takes a string as input and prints the length of\n",
    "the string."
   ]
  },
  {
   "cell_type": "code",
   "execution_count": 8,
   "id": "4858abed-303f-4bc5-b5c7-a54abb45c308",
   "metadata": {},
   "outputs": [
    {
     "name": "stdin",
     "output_type": "stream",
     "text": [
      "Enter a String: Shubham\n"
     ]
    },
    {
     "name": "stdout",
     "output_type": "stream",
     "text": [
      "7\n"
     ]
    }
   ],
   "source": [
    "# taking input string from user\n",
    "s = str(input(\"Enter a String:\"))\n",
    "# printing length of string\n",
    "print(len(s))"
   ]
  },
  {
   "cell_type": "markdown",
   "id": "c6d368f5-01e8-4fe4-94f4-8ff3d1370eb3",
   "metadata": {},
   "source": [
    "2. Create a program that takes a sentence from the user and counts the number\n",
    "of vowels (a, e, i, o, u) in the string."
   ]
  },
  {
   "cell_type": "code",
   "execution_count": 14,
   "id": "46e9cc69-5350-4c03-b02a-f29503d16445",
   "metadata": {},
   "outputs": [
    {
     "name": "stdin",
     "output_type": "stream",
     "text": [
      "Enter a String: abeksosua aund duow odn\n"
     ]
    },
    {
     "name": "stdout",
     "output_type": "stream",
     "text": [
      "count of a is 3\n",
      "count of e is 1\n",
      "count of i is 0\n",
      "count of o is 3\n",
      "count of u is 3\n"
     ]
    }
   ],
   "source": [
    "# taking input string\n",
    "s = str(input(\"Enter a String:\"))\n",
    "\n",
    "# converting string into lower case\n",
    "s = s.lower()\n",
    "\n",
    "# creating list of vowels\n",
    "vowels = ['a','e','i','o','u']\n",
    "\n",
    "# Traversing through list and checking each vowels and printing\n",
    "for x in vowels:\n",
    "    print(f\"count of {x} is {s.count(x)}\")"
   ]
  },
  {
   "cell_type": "markdown",
   "id": "bac9bd81-0fcc-4114-8d5f-8b2b18944230",
   "metadata": {},
   "source": [
    "3. Given a string, reverse the order of characters using string slicing and print\n",
    "the reversed string."
   ]
  },
  {
   "cell_type": "code",
   "execution_count": 13,
   "id": "0a53e5f9-646a-4aa2-b215-43502ac1d93d",
   "metadata": {},
   "outputs": [
    {
     "name": "stdout",
     "output_type": "stream",
     "text": [
      "hgfedcba\n"
     ]
    }
   ],
   "source": [
    "# setting a string for reverse operation \n",
    "s = \"abcdefgh\"\n",
    "\n",
    "# printing reverse string\n",
    "print(s[::-1])"
   ]
  },
  {
   "cell_type": "markdown",
   "id": "f72bf852-fbf8-4230-8936-86ca3fc2acba",
   "metadata": {},
   "source": [
    "4. Write a program that takes a string as input and checks if it is a palindrome\n",
    "(reads the same forwards and backwards)."
   ]
  },
  {
   "cell_type": "code",
   "execution_count": 16,
   "id": "9df57008-a00d-4452-88e5-5182e7dcc194",
   "metadata": {},
   "outputs": [
    {
     "name": "stdin",
     "output_type": "stream",
     "text": [
      "Enter a string:  rabar\n"
     ]
    },
    {
     "name": "stdout",
     "output_type": "stream",
     "text": [
      "Yes Given string is palindrome\n"
     ]
    }
   ],
   "source": [
    "# taking string from user\n",
    "s = str(input(\"Enter a string: \"))\n",
    "# checking its palindrome or not \n",
    "if(s==s[::-1]):\n",
    "    print(\"Yes Given string is palindrome\")\n",
    "else:\n",
    "    print(\"No Given string is not palindrome\")"
   ]
  },
  {
   "cell_type": "markdown",
   "id": "e1f3890c-d92d-496f-a5e1-62a61f57d12b",
   "metadata": {},
   "source": [
    "5. Create a program that takes a string as input and removes all the spaces from\n",
    "it. Print the modified string without spaces"
   ]
  },
  {
   "cell_type": "code",
   "execution_count": 18,
   "id": "5ca00035-1251-453f-9be5-e15d7d1adf59",
   "metadata": {},
   "outputs": [
    {
     "name": "stdin",
     "output_type": "stream",
     "text": [
      "Enter string:  Hi Im Shubham\n"
     ]
    },
    {
     "name": "stdout",
     "output_type": "stream",
     "text": [
      "HiImShubham\n"
     ]
    }
   ],
   "source": [
    "# taking input from user\n",
    "s = str(input(\"Enter string: \"))\n",
    "\n",
    "# split string into a list \n",
    "s = s.split()\n",
    "\n",
    "# defining ans variable to store ans\n",
    "ans = \"\"\n",
    "\n",
    "# traversling to list and adding words into ans variable\n",
    "for x in s:\n",
    "    ans+=x\n",
    "print(ans)"
   ]
  },
  {
   "cell_type": "markdown",
   "id": "68c1a5d3-024d-408d-afab-2e14f10cab67",
   "metadata": {},
   "source": []
  }
 ],
 "metadata": {
  "kernelspec": {
   "display_name": "Python 3 (ipykernel)",
   "language": "python",
   "name": "python3"
  },
  "language_info": {
   "codemirror_mode": {
    "name": "ipython",
    "version": 3
   },
   "file_extension": ".py",
   "mimetype": "text/x-python",
   "name": "python",
   "nbconvert_exporter": "python",
   "pygments_lexer": "ipython3",
   "version": "3.10.8"
  }
 },
 "nbformat": 4,
 "nbformat_minor": 5
}
